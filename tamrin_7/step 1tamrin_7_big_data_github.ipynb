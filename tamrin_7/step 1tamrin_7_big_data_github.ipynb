{
  "cells": [
    {
      "cell_type": "code",
      "execution_count": null,
      "metadata": {
        "id": "NAz0EUVuUxap"
      },
      "outputs": [],
      "source": [
        "#step1"
      ]
    },
    {
      "cell_type": "code",
      "execution_count": 1,
      "metadata": {
        "colab": {
          "base_uri": "https://localhost:8080/"
        },
        "id": "my7wQxrECCIr",
        "outputId": "8a50ffed-6002-497c-e294-dc5efd2a4e9f"
      },
      "outputs": [
        {
          "output_type": "stream",
          "name": "stdout",
          "text": [
            "Looking in indexes: https://pypi.org/simple, https://us-python.pkg.dev/colab-wheels/public/simple/\n",
            "Collecting pyspark\n",
            "  Downloading pyspark-3.4.0.tar.gz (310.8 MB)\n",
            "\u001b[2K     \u001b[90m━━━━━━━━━━━━━━━━━━━━━━━━━━━━━━━━━━━━━━━\u001b[0m \u001b[32m310.8/310.8 MB\u001b[0m \u001b[31m4.0 MB/s\u001b[0m eta \u001b[36m0:00:00\u001b[0m\n",
            "\u001b[?25h  Preparing metadata (setup.py) ... \u001b[?25l\u001b[?25hdone\n",
            "Requirement already satisfied: py4j==0.10.9.7 in /usr/local/lib/python3.10/dist-packages (from pyspark) (0.10.9.7)\n",
            "Building wheels for collected packages: pyspark\n",
            "  Building wheel for pyspark (setup.py) ... \u001b[?25l\u001b[?25hdone\n",
            "  Created wheel for pyspark: filename=pyspark-3.4.0-py2.py3-none-any.whl size=311317145 sha256=ce9c14e399ecb6614132ce00e8cd0bf1a7582875a7284a9a4724cd930a7806c5\n",
            "  Stored in directory: /root/.cache/pip/wheels/7b/1b/4b/3363a1d04368e7ff0d408e57ff57966fcdf00583774e761327\n",
            "Successfully built pyspark\n",
            "Installing collected packages: pyspark\n",
            "Successfully installed pyspark-3.4.0\n"
          ]
        }
      ],
      "source": [
        "pip install pyspark"
      ]
    },
    {
      "cell_type": "code",
      "execution_count": 2,
      "metadata": {
        "colab": {
          "base_uri": "https://localhost:8080/"
        },
        "id": "TsEJvPQzp1s5",
        "outputId": "dd3e6460-6262-4f8e-bbdd-3c7b5b708a1c"
      },
      "outputs": [
        {
          "output_type": "stream",
          "name": "stdout",
          "text": [
            "Looking in indexes: https://pypi.org/simple, https://us-python.pkg.dev/colab-wheels/public/simple/\n",
            "Collecting confluent-kafka\n",
            "  Downloading confluent_kafka-2.1.0-cp310-cp310-manylinux_2_17_x86_64.manylinux2014_x86_64.whl (3.9 MB)\n",
            "\u001b[2K     \u001b[90m━━━━━━━━━━━━━━━━━━━━━━━━━━━━━━━━━━━━━━━━\u001b[0m \u001b[32m3.9/3.9 MB\u001b[0m \u001b[31m35.8 MB/s\u001b[0m eta \u001b[36m0:00:00\u001b[0m\n",
            "\u001b[?25hInstalling collected packages: confluent-kafka\n",
            "Successfully installed confluent-kafka-2.1.0\n"
          ]
        }
      ],
      "source": [
        "!pip install confluent-kafka\n"
      ]
    },
    {
      "cell_type": "code",
      "execution_count": 3,
      "metadata": {
        "id": "eh_WFrOs2GNq"
      },
      "outputs": [],
      "source": [
        "\n",
        "from pyspark.sql.functions import col,count,when,isnan\n",
        "from pyspark.ml.feature import PCA\n",
        "from pyspark.ml.feature import StringIndexer\n",
        "from pyspark.ml.feature import VectorAssembler\n",
        "from pyspark.sql import SparkSession\n",
        "from pyspark.ml import Pipeline\n",
        "from pyspark.ml.classification import LinearSVC\n",
        "from pyspark.ml.evaluation import MulticlassClassificationEvaluator\n",
        "from pyspark.ml.feature import MinMaxScaler\n"
      ]
    },
    {
      "cell_type": "code",
      "execution_count": 4,
      "metadata": {
        "colab": {
          "base_uri": "https://localhost:8080/"
        },
        "id": "AobjTiV0QkCQ",
        "outputId": "b47f38e9-9947-40c9-ac5e-c902bd06f4ca"
      },
      "outputs": [
        {
          "output_type": "stream",
          "name": "stdout",
          "text": [
            "Mounted at /content/drive\n"
          ]
        }
      ],
      "source": [
        "from google.colab import drive\n",
        "drive.mount('/content/drive')\n"
      ]
    },
    {
      "cell_type": "code",
      "execution_count": 5,
      "metadata": {
        "id": "IA_3QQCjZvVw"
      },
      "outputs": [],
      "source": [
        "pathh = \"/content/drive/MyDrive/uber-raw-data-aug14(1).csv\""
      ]
    },
    {
      "cell_type": "code",
      "execution_count": 6,
      "metadata": {
        "colab": {
          "base_uri": "https://localhost:8080/"
        },
        "id": "ezNMzlJ12gEY",
        "outputId": "71ab4dcb-c259-462d-9c2b-16ed098febac"
      },
      "outputs": [
        {
          "output_type": "stream",
          "name": "stdout",
          "text": [
            "+----------------+-------+--------+------+\n",
            "|       Date/Time|    Lat|     Lon|  Base|\n",
            "+----------------+-------+--------+------+\n",
            "|8/1/2014 0:03:00|40.7366|-73.9906|B02512|\n",
            "|8/1/2014 0:09:00| 40.726|-73.9918|B02512|\n",
            "|8/1/2014 0:12:00|40.7209|-74.0507|B02512|\n",
            "|8/1/2014 0:12:00|40.7387|-73.9856|B02512|\n",
            "|8/1/2014 0:12:00|40.7323|-74.0077|B02512|\n",
            "|8/1/2014 0:13:00|40.7349|-74.0033|B02512|\n",
            "|8/1/2014 0:15:00|40.7279|-73.9542|B02512|\n",
            "|8/1/2014 0:17:00| 40.721|-73.9937|B02512|\n",
            "|8/1/2014 0:19:00|40.7195| -74.006|B02512|\n",
            "|8/1/2014 0:20:00|40.7448|-73.9799|B02512|\n",
            "|8/1/2014 0:21:00|40.7399|-74.0057|B02512|\n",
            "|8/1/2014 0:25:00|40.7651|-73.9683|B02512|\n",
            "|8/1/2014 0:27:00|40.7354|-74.0081|B02512|\n",
            "|8/1/2014 0:29:00|40.7339|-74.0028|B02512|\n",
            "|8/1/2014 0:29:00|40.7364|-74.0301|B02512|\n",
            "|8/1/2014 0:29:00|40.7364|-74.0301|B02512|\n",
            "|8/1/2014 0:30:00|40.7252|-73.9516|B02512|\n",
            "|8/1/2014 0:30:00|40.7433| -73.986|B02512|\n",
            "|8/1/2014 0:34:00|40.7437|-73.9884|B02512|\n",
            "|8/1/2014 0:36:00|40.7406|-74.0077|B02512|\n",
            "+----------------+-------+--------+------+\n",
            "only showing top 20 rows\n",
            "\n"
          ]
        }
      ],
      "source": [
        "spark = SparkSession.builder.appName(\"DataPreprocessing\").getOrCreate()\n",
        "df = spark.read.csv(pathh, header=True, inferSchema=True)\n",
        "df.show()"
      ]
    },
    {
      "cell_type": "code",
      "execution_count": 7,
      "metadata": {
        "colab": {
          "base_uri": "https://localhost:8080/"
        },
        "id": "Rw0FVeRlJI-L",
        "outputId": "515949f1-9d5d-4920-913d-d90464e34250"
      },
      "outputs": [
        {
          "output_type": "stream",
          "name": "stdout",
          "text": [
            "+-------+----------------+--------------------+-------------------+------+\n",
            "|summary|       Date/Time|                 Lat|                Lon|  Base|\n",
            "+-------+----------------+--------------------+-------------------+------+\n",
            "|  count|          829275|              829275|             829275|829275|\n",
            "|   mean|            null|   40.73778073582462| -73.97016031317625|  null|\n",
            "| stddev|            null|0.043628060846868946|0.06148272834518351|  null|\n",
            "|    min|8/1/2014 0:00:00|             39.6569|           -74.7737|B02512|\n",
            "|    max|8/9/2014 9:59:00|             41.3182|           -72.3359|B02764|\n",
            "+-------+----------------+--------------------+-------------------+------+\n",
            "\n"
          ]
        }
      ],
      "source": [
        "\n",
        "df.describe().show()"
      ]
    },
    {
      "cell_type": "code",
      "execution_count": 8,
      "metadata": {
        "colab": {
          "base_uri": "https://localhost:8080/"
        },
        "id": "5fnSG0Zx2pU-",
        "outputId": "a7250f8d-c3a4-434e-866d-cf1453756fc7"
      },
      "outputs": [
        {
          "output_type": "stream",
          "name": "stdout",
          "text": [
            "Before:\n",
            "+----------------+-------+--------+------+---------------+----------+\n",
            "|       Date/Time|    Lat|     Lon|  Base|Date/Time_index|Base_index|\n",
            "+----------------+-------+--------+------+---------------+----------+\n",
            "|8/1/2014 0:03:00|40.7366|-73.9906|B02512|        20173.0|       4.0|\n",
            "|8/1/2014 0:09:00| 40.726|-73.9918|B02512|        34403.0|       4.0|\n",
            "|8/1/2014 0:12:00|40.7209|-74.0507|B02512|        25098.0|       4.0|\n",
            "+----------------+-------+--------+------+---------------+----------+\n",
            "only showing top 3 rows\n",
            "\n",
            "**********************************************************************************\n",
            "After:\n",
            "+-------+--------+---------------+----------+\n",
            "|    Lat|     Lon|Date/Time_index|Base_index|\n",
            "+-------+--------+---------------+----------+\n",
            "|40.7366|-73.9906|        20173.0|       4.0|\n",
            "| 40.726|-73.9918|        34403.0|       4.0|\n",
            "|40.7209|-74.0507|        25098.0|       4.0|\n",
            "+-------+--------+---------------+----------+\n",
            "only showing top 3 rows\n",
            "\n"
          ]
        }
      ],
      "source": [
        "string_cols = [c for c, t in df.dtypes if t == \"string\"]\n",
        "indexers = {c: StringIndexer(inputCol=c, outputCol=c+\"_index\") for c in string_cols}\n",
        "\n",
        "indexed_df = df\n",
        "for c, indexer in indexers.items():\n",
        "    indexed_df = indexer.fit(indexed_df).transform(indexed_df)\n",
        "print(\"Before:\")\n",
        "indexed_df.show(3)\n",
        "numeric_cols = [c for c, t in indexed_df.dtypes if t in [\"int\", \"double\", \"float\", \"long\"]]\n",
        "numeric_df = indexed_df.select(numeric_cols)\n",
        "print(\"**********************************************************************************\\nAfter:\")\n",
        "numeric_df.show(3)"
      ]
    },
    {
      "cell_type": "code",
      "execution_count": 9,
      "metadata": {
        "colab": {
          "base_uri": "https://localhost:8080/"
        },
        "id": "F5-3sGxUdnd4",
        "outputId": "45bf41ce-c248-41d9-fca3-5b1bf2cb1fbb"
      },
      "outputs": [
        {
          "output_type": "stream",
          "name": "stdout",
          "text": [
            "Nulls:\n",
            "+---------+---+---+----+\n",
            "|Date/Time|Lat|Lon|Base|\n",
            "+---------+---+---+----+\n",
            "|        0|  0|  0|   0|\n",
            "+---------+---+---+----+\n",
            "\n",
            "We have no null values in this dataset.\n"
          ]
        }
      ],
      "source": [
        "null_counts = df.select([count(when(isnan(c) | col(c).isNull(), c)).alias(c) for c in df.columns])\n",
        "print(\"Nulls:\")\n",
        "null_counts.show()\n",
        "print(\"We have no null values in this dataset.\")"
      ]
    },
    {
      "cell_type": "code",
      "execution_count": 10,
      "metadata": {
        "colab": {
          "base_uri": "https://localhost:8080/"
        },
        "id": "TdbTDyiPhbiO",
        "outputId": "17cf9b4e-ea21-4145-9f7c-7295004fed85"
      },
      "outputs": [
        {
          "output_type": "stream",
          "name": "stdout",
          "text": [
            "+-------+--------+---------------+----------+\n",
            "|    Lat|     Lon|Date/Time_index|Base_index|\n",
            "+-------+--------+---------------+----------+\n",
            "|40.7366|-73.9906|        20173.0|       4.0|\n",
            "| 40.726|-73.9918|        34403.0|       4.0|\n",
            "|40.7209|-74.0507|        25098.0|       4.0|\n",
            "|40.7387|-73.9856|        25098.0|       4.0|\n",
            "|40.7323|-74.0077|        25098.0|       4.0|\n",
            "|40.7349|-74.0033|        29513.0|       4.0|\n",
            "|40.7279|-73.9542|        20174.0|       4.0|\n",
            "| 40.721|-73.9937|        29515.0|       4.0|\n",
            "|40.7195| -74.006|        26643.0|       4.0|\n",
            "|40.7448|-73.9799|        29516.0|       4.0|\n",
            "|40.7399|-74.0057|        32031.0|       4.0|\n",
            "|40.7651|-73.9683|        29518.0|       4.0|\n",
            "|40.7354|-74.0081|        30819.0|       4.0|\n",
            "|40.7339|-74.0028|        20175.0|       4.0|\n",
            "|40.7364|-74.0301|        20175.0|       4.0|\n",
            "|40.7364|-74.0301|        20175.0|       4.0|\n",
            "|40.7252|-73.9516|        33228.0|       4.0|\n",
            "|40.7433| -73.986|        33228.0|       4.0|\n",
            "|40.7437|-73.9884|        26644.0|       4.0|\n",
            "|40.7406|-74.0077|        32034.0|       4.0|\n",
            "+-------+--------+---------------+----------+\n",
            "only showing top 20 rows\n",
            "\n"
          ]
        }
      ],
      "source": [
        "numeric_df.show()"
      ]
    },
    {
      "cell_type": "code",
      "execution_count": 12,
      "metadata": {
        "colab": {
          "base_uri": "https://localhost:8080/"
        },
        "id": "ds_3ogLKlUzd",
        "outputId": "d017abf6-ef2f-4df3-ba37-6bf253f3ba62"
      },
      "outputs": [
        {
          "output_type": "stream",
          "name": "stdout",
          "text": [
            "root\n",
            " |-- Lat: double (nullable = true)\n",
            " |-- Lon: double (nullable = true)\n",
            " |-- Date/Time_index: double (nullable = false)\n",
            " |-- Base_index: double (nullable = false)\n",
            "\n"
          ]
        }
      ],
      "source": [
        "numeric_df.count()\n",
        "numeric_df.printSchema()"
      ]
    },
    {
      "cell_type": "code",
      "execution_count": 13,
      "metadata": {
        "id": "i8gY7Dn7XY3z"
      },
      "outputs": [],
      "source": [
        "from pyspark.ml.clustering import KMeans\n",
        "from pyspark.ml.feature import VectorAssembler\n"
      ]
    },
    {
      "cell_type": "code",
      "execution_count": 16,
      "metadata": {
        "id": "svqxYKnEOmcb"
      },
      "outputs": [],
      "source": [
        "from pyspark.sql import SparkSession\n",
        "from pyspark.ml.clustering import KMeans\n",
        "import matplotlib.pyplot as plt\n",
        "from pyspark.ml.feature import VectorAssembler\n",
        "from pyspark.ml.evaluation import ClusteringEvaluator\n",
        "from pyspark.ml.evaluation import ClusteringEvaluator\n",
        "import pickle\n",
        "\n",
        "# Create a list to store the cost values for different values of k\n",
        "cost = []\n",
        "\n",
        "\n",
        "# Combine the 'Lat' and 'Lon' columns into a single feature vector column\n",
        "assembler = VectorAssembler(inputCols=['Lat', 'Lon'], outputCol='features')\n",
        "data = assembler.transform(df.select('Lat', 'Lon'))\n",
        "\n",
        "\n",
        "# Split the data into training and testing sets with a 80:20 ratio\n",
        "(trainingData, testData) = data.randomSplit([0.8, 0.2], seed=0)\n",
        "\n",
        "\n"
      ]
    },
    {
      "cell_type": "code",
      "source": [
        "\n",
        "# Perform K-means clustering for k values ranging from 2 to 10\n",
        "for i in range(2, 11):\n",
        "    kmeans = KMeans(k=i, seed=0)\n",
        "    model = kmeans.fit(data.select('Lat', 'Lon' , 'features'))\n",
        "    predictions = model.transform(data)\n",
        "    evaluator = ClusteringEvaluator()\n",
        "    silhouette = evaluator.evaluate(predictions)\n",
        "    print(f\"ComputeCost in {i} = \" + str(silhouette))\n",
        "    cost.append(silhouette)\n"
      ],
      "metadata": {
        "colab": {
          "base_uri": "https://localhost:8080/"
        },
        "id": "F14Bpq6iN948",
        "outputId": "eb71069e-bc0e-42d6-9227-26c11e2d9419"
      },
      "execution_count": 18,
      "outputs": [
        {
          "output_type": "stream",
          "name": "stdout",
          "text": [
            "ComputeCost in 2 = 0.844170245743629\n",
            "ComputeCost in 3 = 0.43946091940036947\n",
            "ComputeCost in 4 = 0.8570580885453224\n",
            "ComputeCost in 5 = 0.5558122297387842\n",
            "ComputeCost in 6 = 0.5193684163386342\n",
            "ComputeCost in 7 = 0.5252543378509391\n",
            "ComputeCost in 8 = 0.5330680546952632\n",
            "ComputeCost in 9 = 0.5689462089956616\n",
            "ComputeCost in 10 = 0.575024829305516\n"
          ]
        }
      ]
    },
    {
      "cell_type": "code",
      "source": [
        "# Plot the cost values for different values of k\n",
        "plt.plot(range(2, 11), cost)\n",
        "plt.xlabel('Number of clusters (k)')\n",
        "plt.ylabel('Cost')\n",
        "plt.title('Silhouette Method')\n",
        "plt.show()"
      ],
      "metadata": {
        "colab": {
          "base_uri": "https://localhost:8080/",
          "height": 472
        },
        "id": "W3hy9pj3TDdu",
        "outputId": "51cd5b7b-45e4-4b74-8039-4207e7763cbd"
      },
      "execution_count": 19,
      "outputs": [
        {
          "output_type": "display_data",
          "data": {
            "text/plain": [
              "<Figure size 640x480 with 1 Axes>"
            ],
            "image/png": "[encoded data removed]"
          },
          "metadata": {}
        }
      ]
    },
    {
      "cell_type": "code",
      "execution_count": 20,
      "metadata": {
        "id": "NBoplT0Ub71Z"
      },
      "outputs": [],
      "source": [
        "\n",
        "from pyspark.sql import SparkSession\n",
        "from pyspark.ml.clustering import KMeans\n",
        "import matplotlib.pyplot as plt\n",
        "from pyspark.ml.feature import VectorAssembler\n",
        "from pyspark.ml.evaluation import ClusteringEvaluator\n",
        "from pyspark.ml.evaluation import ClusteringEvaluator\n",
        "import pickle\n",
        "\n",
        "\n",
        "# Combine the 'Lat' and 'Lon' columns into a single feature vector column\n",
        "assembler = VectorAssembler(inputCols=['Lat', 'Lon'], outputCol='features')\n",
        "data = assembler.transform(df.select('Lat', 'Lon'))\n",
        "\n",
        "\n",
        "# Split the data into training and testing sets with a 80:20 ratio\n",
        "(trainingData, testData) = data.randomSplit([0.8, 0.2], seed=0)\n",
        "\n",
        "# Train  K-means clustering model on the training set\n",
        "kmeans = KMeans(k=5, seed=0)\n",
        "model = kmeans.fit(trainingData)\n",
        "\n",
        "# Predict the cluster labels for the testing set\n",
        "predictions = model.transform(testData)\n",
        "\n"
      ]
    },
    {
      "cell_type": "code",
      "execution_count": 21,
      "metadata": {
        "id": "dWfEl6FoOPy8"
      },
      "outputs": [],
      "source": [
        "# Save the trained model to a file\n",
        "model.write().overwrite().save(\"kmeans_model\")\n",
        "\n",
        "# Convert the PySpark KMeans model object into a Python object\n",
        "pickle_model = {'clusterCenters': model.clusterCenters(), 'k': model.getK()}\n",
        "\n",
        "# Write the Python KMeans model object to a pickle file\n",
        "with open('kmeans_model.pkl', 'wb') as f:\n",
        "    pickle.dump(pickle_model, f)\n"
      ]
    }
  ],
  "metadata": {
    "colab": {
      "provenance": []
    },
    "kernelspec": {
      "display_name": "Python 3",
      "name": "python3"
    },
    "language_info": {
      "name": "python"
    }
  },
  "nbformat": 4,
  "nbformat_minor": 0
}