{
  "nbformat": 4,
  "nbformat_minor": 0,
  "metadata": {
    "colab": {
      "provenance": []
    },
    "kernelspec": {
      "name": "python3",
      "display_name": "Python 3"
    },
    "language_info": {
      "name": "python"
    }
  },
  "cells": [
    {
      "cell_type": "code",
      "execution_count": 1,
      "metadata": {
        "id": "QcbfYLcWJRwX",
        "colab": {
          "base_uri": "https://localhost:8080/"
        },
        "outputId": "ddf6a5f5-1c3c-499b-917b-cab5b2bed401"
      },
      "outputs": [
        {
          "output_type": "stream",
          "name": "stdout",
          "text": [
            "--2023-05-01 22:03:06--  https://downloads.apache.org/kafka/3.4.0/kafka_2.13-3.4.0.tgz\n",
            "Resolving downloads.apache.org (downloads.apache.org)... 88.99.95.219, 135.181.214.104, 2a01:4f9:3a:2c57::2, ...\n",
            "Connecting to downloads.apache.org (downloads.apache.org)|88.99.95.219|:443... connected.\n",
            "HTTP request sent, awaiting response... 200 OK\n",
            "Length: 106290956 (101M) [application/x-gzip]\n",
            "Saving to: ‘kafka_2.13-3.4.0.tgz’\n",
            "\n",
            "kafka_2.13-3.4.0.tg 100%[===================>] 101.37M  30.8MB/s    in 3.8s    \n",
            "\n",
            "2023-05-01 22:03:10 (26.6 MB/s) - ‘kafka_2.13-3.4.0.tgz’ saved [106290956/106290956]\n",
            "\n"
          ]
        }
      ],
      "source": [
        "#step 2:\n",
        "!apt-get install openjdk-8-jdk-headless -qq > /dev/null\n",
        "!wget https://downloads.apache.org/kafka/3.4.0/kafka_2.13-3.4.0.tgz\n",
        "!tar -xzf kafka_2.13-3.4.0.tgz"
      ]
    },
    {
      "cell_type": "code",
      "source": [
        "import subprocess\n",
        "import os\n",
        "zk = subprocess.Popen([\"./kafka_2.13-3.4.0/bin/zookeeper-server-start.sh\", \"./kafka_2.13-3.4.0/config/zookeeper.properties\"])\n",
        "os.system(\"sleep 5\")\n",
        "kf = subprocess.Popen([\"./kafka_2.13-3.4.0/bin/kafka-server-start.sh\", \"./kafka_2.13-3.4.0/config/server.properties\"])\n",
        "os.system(\"sleep 5\")"
      ],
      "metadata": {
        "id": "R9cGuKdbJZZ7"
      },
      "execution_count": null,
      "outputs": []
    },
    {
      "cell_type": "code",
      "source": [
        "zk.terminate()\n",
        "kf.terminate()"
      ],
      "metadata": {
        "id": "nEZ4RdMcJbn-"
      },
      "execution_count": null,
      "outputs": []
    },
    {
      "cell_type": "code",
      "source": [
        "!pip install kafka-python\n"
      ],
      "metadata": {
        "id": "k2BF58rmJxWh"
      },
      "execution_count": null,
      "outputs": []
    },
    {
      "cell_type": "code",
      "source": [
        "from kafka import KafkaProducer, KafkaConsumer"
      ],
      "metadata": {
        "id": "p1gWPLKoJd5U"
      },
      "execution_count": null,
      "outputs": []
    },
    {
      "cell_type": "code",
      "source": [
        "producer = KafkaProducer(bootstrap_servers=['localhost:9092'])\n"
      ],
      "metadata": {
        "id": "50sxg5aXJgFA"
      },
      "execution_count": null,
      "outputs": []
    },
    {
      "cell_type": "code",
      "source": [
        "producer.send('your_topic', b'your_message')\n"
      ],
      "metadata": {
        "id": "FSHu3EbfJiT3"
      },
      "execution_count": null,
      "outputs": []
    },
    {
      "cell_type": "code",
      "source": [],
      "metadata": {
        "id": "g4wwniKiJlhF"
      },
      "execution_count": null,
      "outputs": []
    },
    {
      "cell_type": "code",
      "execution_count": null,
      "metadata": {
        "colab": {
          "base_uri": "https://localhost:8080/",
          "height": 397
        },
        "id": "YSUZ57EMmcbV",
        "outputId": "408e8dc1-df62-4f78-f25f-134be209f08d"
      },
      "outputs": [
        {
          "name": "stderr",
          "output_type": "stream",
          "text": [
            "ERROR:kafka.conn:Connect attempt to <BrokerConnection node_id=bootstrap-0 host=localhost:9092 <connecting> [IPv4 ('127.0.0.1', 9092)]> returned error 111. Disconnecting.\n",
            "ERROR:kafka.conn:Connect attempt to <BrokerConnection node_id=bootstrap-0 host=localhost:9092 <connecting> [IPv4 ('127.0.0.1', 9092)]> returned error 111. Disconnecting.\n",
            "ERROR:kafka.conn:Connect attempt to <BrokerConnection node_id=0 host=ad2d1ed60a8a:9092 <connecting> [IPv4 ('172.28.0.12', 9092)]> returned error 111. Disconnecting.\n",
            "WARNING:kafka.client:Node 0 connection failed -- refreshing metadata\n",
            "ERROR:kafka.conn:Connect attempt to <BrokerConnection node_id=bootstrap-0 host=localhost:9092 <connecting> [IPv6 ('::1', 9092, 0, 0)]> returned error 99. Disconnecting.\n"
          ]
        },
        {
          "ename": "NoBrokersAvailable",
          "evalue": "ignored",
          "output_type": "error",
          "traceback": [
            "\u001b[0;31m---------------------------------------------------------------------------\u001b[0m",
            "\u001b[0;31mNoBrokersAvailable\u001b[0m                        Traceback (most recent call last)",
            "\u001b[0;32m<ipython-input-53-e521a395c967>\u001b[0m in \u001b[0;36m<cell line: 1>\u001b[0;34m()\u001b[0m\n\u001b[0;32m----> 1\u001b[0;31m \u001b[0mconsumer\u001b[0m \u001b[0;34m=\u001b[0m \u001b[0mKafkaConsumer\u001b[0m\u001b[0;34m(\u001b[0m\u001b[0;34m'your_topic'\u001b[0m\u001b[0;34m,\u001b[0m \u001b[0mbootstrap_servers\u001b[0m\u001b[0;34m=\u001b[0m\u001b[0;34m[\u001b[0m\u001b[0;34m'localhost:9092'\u001b[0m\u001b[0;34m]\u001b[0m\u001b[0;34m,\u001b[0m \u001b[0mauto_offset_reset\u001b[0m\u001b[0;34m=\u001b[0m\u001b[0;34m'latest'\u001b[0m\u001b[0;34m,\u001b[0m \u001b[0menable_auto_commit\u001b[0m\u001b[0;34m=\u001b[0m\u001b[0;32mTrue\u001b[0m\u001b[0;34m)\u001b[0m\u001b[0;34m\u001b[0m\u001b[0;34m\u001b[0m\u001b[0m\n\u001b[0m",
            "\u001b[0;32m/usr/local/lib/python3.10/dist-packages/kafka/consumer/group.py\u001b[0m in \u001b[0;36m__init__\u001b[0;34m(self, *topics, **configs)\u001b[0m\n\u001b[1;32m    354\u001b[0m                         str(self.config['api_version']), str_version)\n\u001b[1;32m    355\u001b[0m \u001b[0;34m\u001b[0m\u001b[0m\n\u001b[0;32m--> 356\u001b[0;31m         \u001b[0mself\u001b[0m\u001b[0;34m.\u001b[0m\u001b[0m_client\u001b[0m \u001b[0;34m=\u001b[0m \u001b[0mKafkaClient\u001b[0m\u001b[0;34m(\u001b[0m\u001b[0mmetrics\u001b[0m\u001b[0;34m=\u001b[0m\u001b[0mself\u001b[0m\u001b[0;34m.\u001b[0m\u001b[0m_metrics\u001b[0m\u001b[0;34m,\u001b[0m \u001b[0;34m**\u001b[0m\u001b[0mself\u001b[0m\u001b[0;34m.\u001b[0m\u001b[0mconfig\u001b[0m\u001b[0;34m)\u001b[0m\u001b[0;34m\u001b[0m\u001b[0;34m\u001b[0m\u001b[0m\n\u001b[0m\u001b[1;32m    357\u001b[0m \u001b[0;34m\u001b[0m\u001b[0m\n\u001b[1;32m    358\u001b[0m         \u001b[0;31m# Get auto-discovered version from client if necessary\u001b[0m\u001b[0;34m\u001b[0m\u001b[0;34m\u001b[0m\u001b[0m\n",
            "\u001b[0;32m/usr/local/lib/python3.10/dist-packages/kafka/client_async.py\u001b[0m in \u001b[0;36m__init__\u001b[0;34m(self, **configs)\u001b[0m\n\u001b[1;32m    242\u001b[0m         \u001b[0;32mif\u001b[0m \u001b[0mself\u001b[0m\u001b[0;34m.\u001b[0m\u001b[0mconfig\u001b[0m\u001b[0;34m[\u001b[0m\u001b[0;34m'api_version'\u001b[0m\u001b[0;34m]\u001b[0m \u001b[0;32mis\u001b[0m \u001b[0;32mNone\u001b[0m\u001b[0;34m:\u001b[0m\u001b[0;34m\u001b[0m\u001b[0;34m\u001b[0m\u001b[0m\n\u001b[1;32m    243\u001b[0m             \u001b[0mcheck_timeout\u001b[0m \u001b[0;34m=\u001b[0m \u001b[0mself\u001b[0m\u001b[0;34m.\u001b[0m\u001b[0mconfig\u001b[0m\u001b[0;34m[\u001b[0m\u001b[0;34m'api_version_auto_timeout_ms'\u001b[0m\u001b[0;34m]\u001b[0m \u001b[0;34m/\u001b[0m \u001b[0;36m1000\u001b[0m\u001b[0;34m\u001b[0m\u001b[0;34m\u001b[0m\u001b[0m\n\u001b[0;32m--> 244\u001b[0;31m             \u001b[0mself\u001b[0m\u001b[0;34m.\u001b[0m\u001b[0mconfig\u001b[0m\u001b[0;34m[\u001b[0m\u001b[0;34m'api_version'\u001b[0m\u001b[0;34m]\u001b[0m \u001b[0;34m=\u001b[0m \u001b[0mself\u001b[0m\u001b[0;34m.\u001b[0m\u001b[0mcheck_version\u001b[0m\u001b[0;34m(\u001b[0m\u001b[0mtimeout\u001b[0m\u001b[0;34m=\u001b[0m\u001b[0mcheck_timeout\u001b[0m\u001b[0;34m)\u001b[0m\u001b[0;34m\u001b[0m\u001b[0;34m\u001b[0m\u001b[0m\n\u001b[0m\u001b[1;32m    245\u001b[0m \u001b[0;34m\u001b[0m\u001b[0m\n\u001b[1;32m    246\u001b[0m     \u001b[0;32mdef\u001b[0m \u001b[0m_can_bootstrap\u001b[0m\u001b[0;34m(\u001b[0m\u001b[0mself\u001b[0m\u001b[0;34m)\u001b[0m\u001b[0;34m:\u001b[0m\u001b[0;34m\u001b[0m\u001b[0;34m\u001b[0m\u001b[0m\n",
            "\u001b[0;32m/usr/local/lib/python3.10/dist-packages/kafka/client_async.py\u001b[0m in \u001b[0;36mcheck_version\u001b[0;34m(self, node_id, timeout, strict)\u001b[0m\n\u001b[1;32m    898\u001b[0m             \u001b[0;32mif\u001b[0m \u001b[0mtry_node\u001b[0m \u001b[0;32mis\u001b[0m \u001b[0;32mNone\u001b[0m\u001b[0;34m:\u001b[0m\u001b[0;34m\u001b[0m\u001b[0;34m\u001b[0m\u001b[0m\n\u001b[1;32m    899\u001b[0m                 \u001b[0mself\u001b[0m\u001b[0;34m.\u001b[0m\u001b[0m_lock\u001b[0m\u001b[0;34m.\u001b[0m\u001b[0mrelease\u001b[0m\u001b[0;34m(\u001b[0m\u001b[0;34m)\u001b[0m\u001b[0;34m\u001b[0m\u001b[0;34m\u001b[0m\u001b[0m\n\u001b[0;32m--> 900\u001b[0;31m                 \u001b[0;32mraise\u001b[0m \u001b[0mErrors\u001b[0m\u001b[0;34m.\u001b[0m\u001b[0mNoBrokersAvailable\u001b[0m\u001b[0;34m(\u001b[0m\u001b[0;34m)\u001b[0m\u001b[0;34m\u001b[0m\u001b[0;34m\u001b[0m\u001b[0m\n\u001b[0m\u001b[1;32m    901\u001b[0m             \u001b[0mself\u001b[0m\u001b[0;34m.\u001b[0m\u001b[0m_maybe_connect\u001b[0m\u001b[0;34m(\u001b[0m\u001b[0mtry_node\u001b[0m\u001b[0;34m)\u001b[0m\u001b[0;34m\u001b[0m\u001b[0;34m\u001b[0m\u001b[0m\n\u001b[1;32m    902\u001b[0m             \u001b[0mconn\u001b[0m \u001b[0;34m=\u001b[0m \u001b[0mself\u001b[0m\u001b[0;34m.\u001b[0m\u001b[0m_conns\u001b[0m\u001b[0;34m[\u001b[0m\u001b[0mtry_node\u001b[0m\u001b[0;34m]\u001b[0m\u001b[0;34m\u001b[0m\u001b[0;34m\u001b[0m\u001b[0m\n",
            "\u001b[0;31mNoBrokersAvailable\u001b[0m: NoBrokersAvailable"
          ]
        }
      ],
      "source": [
        "consumer = KafkaConsumer('your_topic', bootstrap_servers=['localhost:9092'], auto_offset_reset='latest', enable_auto_commit=True)\n"
      ]
    },
    {
      "cell_type": "code",
      "source": [
        "producer = KafkaProducer(bootstrap_servers=['localhost:9092'])\n",
        "\n",
        "spark = SparkSession.builder.appName(\"DataPreprocessing\").getOrCreate()\n",
        "df = spark.read.csv(pathh, header=True, inferSchema=True)\n",
        "pathh = \"/content/drive/MyDrive/uber-raw-data-aug14(1).csv\"\n",
        "\n",
        "\n",
        "train_data, test_data = df.randomSplit([0.8, 0.2], seed=20)\n",
        "\n",
        "print(f\"Kafka : Sending Test_data rows using Kafka Producer. total rows: {test_data.count()}.\")\n",
        "for row in test_data.toJSON().collect():\n",
        "    producer.send(\"sodfkaofasmoas\", row.encode('utf-8'))\n",
        "\n",
        "producer.close()\n",
        "print(\"Kafka : Sending Test_data Complete.\")"
      ],
      "metadata": {
        "id": "OpSzKtpEJo9p"
      },
      "execution_count": null,
      "outputs": []
    },
    {
      "cell_type": "code",
      "source": [
        "from kafka import KafkaProducer\n",
        "from pyspark.sql import SparkSession\n",
        "\n",
        "# create Kafka producer\n",
        "producer = KafkaProducer(bootstrap_servers=['localhost:9092'])\n",
        "\n",
        "# create Spark session\n",
        "spark = SparkSession.builder.appName(\"DataPreprocessing\").getOrCreate()\n",
        "\n",
        "# read data from CSV file\n",
        "pathh = \"/content/drive/MyDrive/uber-raw-data-aug14(1).csv\"\n",
        "df = spark.read.csv(pathh, header=True, inferSchema=True)\n",
        "\n",
        "# split data into train and test sets\n",
        "train_data, test_data = df.randomSplit([0.8, 0.2], seed=40)\n",
        "\n",
        "# send test data to Kafka topic\n",
        "print(f\"Sending {test_data.count()} rows of test data to Kafka topic.\")\n",
        "for row in test_data.toJSON().collect():\n",
        "    producer.send(\"my-kafka-topic\", row.encode('utf-8'))\n",
        "\n",
        "producer.flush()\n",
        "producer.close()\n",
        "\n",
        "print(\"Test data sent to Kafka topic successfully.\")"
      ],
      "metadata": {
        "id": "_w2jyPfgJ03z"
      },
      "execution_count": null,
      "outputs": []
    },
    {
      "cell_type": "code",
      "source": [
        "consumer = KafkaConsumer(\n",
        "    'sodfkaofasmoas',\n",
        "    bootstrap_servers=['localhost:9092'],\n",
        "    auto_offset_reset='earliest',\n",
        "    enable_auto_commit=True,\n",
        "    group_id='my_group'\n",
        ")\n",
        "input_col_order = [\"Lat\",\"Lon\",\"Date/Time-seconds\",\"Base-Numerical\"]\n",
        "\n",
        "row_counter=0\n",
        "def create_dataframe_and_predict(messages):\n",
        "    global Final_df\n",
        "    global row_counter\n",
        "    string_list = []\n",
        "    for x in messages[0]:\n",
        "        message_str = x.value.decode('utf-8')\n",
        "        string_list.append(message_str)\n",
        "    print(f\"Kafka : Received {len(string_list)} rows.\")\n",
        "    dict_list = [json.loads(s) for s in string_list]\n",
        "    df = spark.createDataFrame(dict_list)\n",
        "    assembler = VectorAssembler(inputCols=input_col_order, outputCol=\"features\")\n",
        "    df = assembler.transform(df)\n",
        "    predictions = model.transform(df)\n",
        "    cache_df=Final_df.union(predictions)\n",
        "    Final_df=cache_df\n",
        "    row_counter=row_counter+len(string_list)\n",
        "    print(f\"Model : Predicting {len(string_list)} rows complete. appended to Final_df. Total rows predicted: {row_counter}\")\n",
        "\n",
        "print(\"Kafka is ready to get rows.\")\n",
        "start_time = time.time()\n",
        "unsaved=False\n",
        "while True:\n",
        "    messages = [msg for msg in consumer.poll(max_records=5000).values()]\n",
        "    if messages:\n",
        "        time.sleep(0.01)\n",
        "        start_time = time.time()\n",
        "        unsaved=True\n",
        "        create_dataframe_and_predict(messages)\n",
        "    if unsaved:\n",
        "        if (time.time() - start_time)>10:\n",
        "            print(f\"Kafka : got nothing for 10 secs. Saving predicts in System.\\nKafka : Total Predicts: {Final_df.count()} saved in path A:/Uber-Predicts.\")\n",
        "            time.sleep(0.01)\n",
        "            Final_df.select(\"Lat\", \"Lon\", \"Date/Time-seconds\",\"Base-Numerical\", \"prediction\").coalesce(1).write.mode(\"overwrite\").csv(\"A:/Uber-Predicts\")\n",
        "            unsaved=False"
      ],
      "metadata": {
        "id": "I2_JNbjXJ5C5"
      },
      "execution_count": null,
      "outputs": []
    }
  ]
}